{
 "cells": [
  {
   "cell_type": "code",
   "execution_count": 39,
   "metadata": {},
   "outputs": [],
   "source": [
    "import multiprocessing\n",
    "import threading\n",
    "import urllib.request\n",
    "import time"
   ]
  },
  {
   "cell_type": "code",
   "execution_count": 40,
   "metadata": {},
   "outputs": [
    {
     "data": {
      "text/plain": [
       "12"
      ]
     },
     "execution_count": 40,
     "metadata": {},
     "output_type": "execute_result"
    }
   ],
   "source": [
    "multiprocessing.cpu_count()"
   ]
  },
  {
   "cell_type": "code",
   "execution_count": 41,
   "metadata": {},
   "outputs": [
    {
     "name": "stdout",
     "output_type": "stream",
     "text": [
      "download em andamento de http://lorempixel.com/400/200/sports\n",
      "download em andamento de http://lorempixel.com/400/200/sports\n",
      "download em andamento de http://lorempixel.com/400/200/sports\n",
      "download em andamento de http://lorempixel.com/400/200/sports\n",
      "download em andamento de http://lorempixel.com/400/200/sports\n",
      "download em andamento de http://lorempixel.com/400/200/sports\n",
      "download em andamento de http://lorempixel.com/400/200/sports\n",
      "download em andamento de http://lorempixel.com/400/200/sports\n",
      "download em andamento de http://lorempixel.com/400/200/sports\n",
      "download em andamento de http://lorempixel.com/400/200/sports\n"
     ]
    },
    {
     "data": {
      "text/plain": [
       "10.945208072662354"
      ]
     },
     "execution_count": 41,
     "metadata": {},
     "output_type": "execute_result"
    }
   ],
   "source": [
    "def download_image(image, name):\n",
    "    print('download em andamento de', image)\n",
    "    urllib.request.urlretrieve(image, name)\n",
    "    \n",
    "time_0 = time.time()\n",
    "for i in range(10):\n",
    "    name = 'image\\image-' + str(i) + '.jpg'\n",
    "    download_image('http://lorempixel.com/400/200/sports', name)\n",
    "time_1 = time.time()\n",
    "\n",
    "total_time = time_1 - time_0\n",
    "total_time"
   ]
  },
  {
   "cell_type": "code",
   "execution_count": 42,
   "metadata": {},
   "outputs": [
    {
     "name": "stdout",
     "output_type": "stream",
     "text": [
      "download em andamento de http://lorempixel.com/400/200/sports\n",
      "download em andamento de http://lorempixel.com/400/200/sports\n",
      "download em andamento de http://lorempixel.com/400/200/sports\n",
      "download em andamento de http://lorempixel.com/400/200/sports\n",
      "download em andamento de http://lorempixel.com/400/200/sports\n",
      "download em andamento de http://lorempixel.com/400/200/sportsdownload em andamento de http://lorempixel.com/400/200/sports\n",
      "\n",
      "download em andamento de http://lorempixel.com/400/200/sports\n",
      "download em andamento de http://lorempixel.com/400/200/sports\n",
      "download em andamento de http://lorempixel.com/400/200/sports\n",
      "Concluido! image\\image-14.jpg\n",
      "Concluido! image\\image-12.jpg\n",
      "Concluido! image\\image-10.jpg\n",
      "Concluido! image\\image-18.jpg\n",
      "Concluido! image\\image-19.jpg\n",
      "Concluido! image\\image-16.jpg\n",
      "Concluido!Concluido! image\\image-11.jpg\n",
      "Concluido! image\\image-17.jpg\n",
      " image\\image-13.jpg\n",
      "Concluido! image\\image-15.jpg\n"
     ]
    },
    {
     "data": {
      "text/plain": [
       "1.3577239513397217"
      ]
     },
     "execution_count": 42,
     "metadata": {},
     "output_type": "execute_result"
    }
   ],
   "source": [
    "def download_image(image, name):\n",
    "    print('download em andamento de', image)\n",
    "    urllib.request.urlretrieve(image, name)\n",
    "    print('Concluido!', name)\n",
    "    \n",
    "def execute_thread(x):\n",
    "    name = 'image\\image-' + str(i+10) + '.jpg'\n",
    "    download_image('http://lorempixel.com/400/200/sports', name)\n",
    "    \n",
    "    \n",
    "time_0 = time.time()\n",
    "threads = []\n",
    "\n",
    "for i in range(10):\n",
    "    thread = threading.Thread(target = execute_thread, args = (i, ))\n",
    "    threads.append(thread)\n",
    "    thread.start()\n",
    "\n",
    "for i in threads:\n",
    "    i.join()\n",
    "    \n",
    "time_1 = time.time()\n",
    "\n",
    "total_time = time_1 - time_0\n",
    "total_time"
   ]
  },
  {
   "cell_type": "code",
   "execution_count": null,
   "metadata": {},
   "outputs": [],
   "source": []
  }
 ],
 "metadata": {
  "kernelspec": {
   "display_name": "Python 3",
   "language": "python",
   "name": "python3"
  },
  "language_info": {
   "codemirror_mode": {
    "name": "ipython",
    "version": 3
   },
   "file_extension": ".py",
   "mimetype": "text/x-python",
   "name": "python",
   "nbconvert_exporter": "python",
   "pygments_lexer": "ipython3",
   "version": "3.8.3"
  }
 },
 "nbformat": 4,
 "nbformat_minor": 4
}
